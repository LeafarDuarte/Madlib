{
  "nbformat": 4,
  "nbformat_minor": 0,
  "metadata": {
    "colab": {
      "provenance": []
    },
    "kernelspec": {
      "name": "python3",
      "display_name": "Python 3"
    },
    "language_info": {
      "name": "python"
    }
  },
  "cells": [
    {
      "cell_type": "code",
      "execution_count": null,
      "metadata": {
        "id": "mQke66km46EQ"
      },
      "outputs": [],
      "source": [
        "bebida = input (\"Insira um apelido para bebida: \")\n",
        "banda = input (\"Agora escolha uma banda ou grupo musical que você goste: \")\n",
        "cantorFav = input (\"Qual seria o seu cantor ou cantora favorito? \")\n",
        "pCorpo = input (\"Escolha uma parte do corpo humano: \")\n",
        "adjNeg = input (\"Escolha um adjetivo negativo: \")\n",
        "munPar1 = input (\"Agora escolha um município paraense: \")\n",
        "munPar2 = input (\"Mais um município paraense, porfavor: \")\n",
        "ofensa = input (\"Prometo que é o último, insira uma ofensa: \")\n",
        "\n",
        "\n",
        "\n",
        "madlib = (f\"Você conhece a história após a queda de Tróia?\\n\\n    A pilhagem mítica de Troia foi acompanhada por uma grande festa, na qual, como de costume, os gregos encheram a cara com {bebida} \\\n",
        "e destruíram toda a louça. Entretanto, como nem tudo são flores,\\n misteriosos invasores do Mar Negro, publicamente conhecidos como  {banda}, se aproveitaram da farra \\\n",
        "e apagaram as luzes gregas. Isso conduziu a um período que ficara conhecido como a Idade das Trevas.\\n Quando os gregos finalmente acenderam tudo de novo, por volta de 800 a.C., além \\\n",
        "de terem descoberto que toda a sua louça estava em péssimas condições, ainda descobriram\\n que {cantorFav} tinha se aposentado e as cidades tinham sido completamente destruídas.\\n \\\n",
        "  Coçando o {pCorpo}, os arrependidos e {adjNeg} dos gregos iniciaram a reconstrução.\\n    A palavra grega para o novo estilo de cidade era polis e durante um longo tempo eles só \\\n",
        "puderam ter uma, já que ninguém conseguia descobrir qual era o plural da palavra.\\n\\n   Posteriormente descobriram que tinham surgido duas cidades principais dentro de seu território \\\n",
        "- {munPar1} e {munPar2} -também conhecidas como Atenas e Esparta-, que\\n passavam um terço do tempo guerreando contra os persas, um terço do tempo lutando entre si e o resto do \\\n",
        "tempo brigando consigo mesmas.\\n \\\n",
        "\\\n",
        "Ao longo dos anos, as duas cidades desenvolveram democracias, que têm origem nas palavras gregas kratos, que significa “governar por”, e demos, que significa povo, ou, “totais \\\n",
        "{ofensa} que se deixam governar por pessoas ainda mais {ofensa}, chamadas políticos”. Isso ainda propiciou a inspiração para o sistema político moderno mais aceito nos dias de \\\n",
        "hoje, a democracia, ou, governo do povo. \")\n",
        "\n",
        "print(madlib)"
      ]
    }
  ]
}