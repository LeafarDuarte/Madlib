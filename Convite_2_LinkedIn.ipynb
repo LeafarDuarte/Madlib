{
  "nbformat": 4,
  "nbformat_minor": 0,
  "metadata": {
    "colab": {
      "provenance": [],
      "authorship_tag": "ABX9TyP7R1S2FGTCwrK+3dtxONvE",
      "include_colab_link": true
    },
    "kernelspec": {
      "name": "python3",
      "display_name": "Python 3"
    },
    "language_info": {
      "name": "python"
    }
  },
  "cells": [
    {
      "cell_type": "markdown",
      "metadata": {
        "id": "view-in-github",
        "colab_type": "text"
      },
      "source": [
        "<a href=\"https://colab.research.google.com/github/LeafarDuarte/Madlib/blob/main/Convite_2_LinkedIn.ipynb\" target=\"_parent\"><img src=\"https://colab.research.google.com/assets/colab-badge.svg\" alt=\"Open In Colab\"/></a>"
      ]
    },
    {
      "cell_type": "code",
      "execution_count": null,
      "metadata": {
        "id": "r28HO26byFf7"
      },
      "outputs": [],
      "source": [
        "def mensagem_inicial():\n",
        "      print(\"Oi, tudo bem? Posso te adicionar no LinkedIn? Estou no começo da graduação, mas quero aprender e me espelhar quem tem sucesso e que os recrutadores procuram para que eu também possa aprender o caminho das pedras. Se puderes compartilhar te agradeço! Vlw se leu até aqui\\n\")\n",
        "\n",
        "def extrair_nome_perfil(link):\n",
        "      partes = link.split(\"/\")\n",
        "      return partes[-1] if len(partes) > 1 else \"\"\n",
        "\n",
        "def meu_linkedin():\n",
        "    return \"/in/rafael15\"\n",
        "\n",
        "def main():\n",
        "    mensagem_inicial()\n",
        "    resposta = input(\"Link do LinkedIn: \")\n",
        "\n",
        "    nome_do_perfil = extrair_nome_perfil(resposta)\n",
        "\n",
        "    if resposta.strip():\n",
        "      print(f\"\\nÉ '{nome_do_perfil}' né? Ok, vou já te adicionar lá! Valeeeu\")\n",
        "    else:\n",
        "      print(\"\\nSe não rola de boa, obrigado mesmo assim pela atenção :)\")\n",
        "\n",
        "    print(f\"\\nAh, se interessar, o meu é [Zelda]{meu_linkedin()}\")\n",
        "\n",
        "main()"
      ]
    },
    {
      "cell_type": "code",
      "source": [],
      "metadata": {
        "id": "R7lNawZrCJ0S"
      },
      "execution_count": null,
      "outputs": []
    }
  ]
}